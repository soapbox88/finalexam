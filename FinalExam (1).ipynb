{
 "cells": [
  {
   "cell_type": "markdown",
   "id": "275f6926-e616-4c93-9af4-e688ebf23ee9",
   "metadata": {},
   "source": [
    "# My Jupyter Notebook on IBM Watson Studio"
   ]
  },
  {
   "cell_type": "markdown",
   "id": "d3007222-4319-41b4-8390-0d11822b3020",
   "metadata": {},
   "source": [
    "**Sophia Boxold**\n",
    "\n",
    "Healthcare Data Analyst"
   ]
  },
  {
   "cell_type": "markdown",
   "id": "d290b804-b53a-42de-9eaf-70d529e6bd2f",
   "metadata": {},
   "source": [
    "*I am interested in data science because I really love gaining insights and learning new information about how the world works.*"
   ]
  },
  {
   "cell_type": "markdown",
   "id": "ab495e68-bada-4985-8f99-b6dbb02ab5b8",
   "metadata": {},
   "source": [
    "My code in cell 5 is supposed to add 2 to 3."
   ]
  },
  {
   "cell_type": "code",
   "execution_count": 2,
   "id": "a33f302e-37bd-4a1b-ba0e-c242ccd46d0a",
   "metadata": {},
   "outputs": [
    {
     "data": {
      "text/plain": [
       "5"
      ]
     },
     "execution_count": 2,
     "metadata": {},
     "output_type": "execute_result"
    }
   ],
   "source": [
    "2+3"
   ]
  },
  {
   "cell_type": "markdown",
   "id": "39b01622-205d-4da9-af11-7dee74c906f8",
   "metadata": {},
   "source": [
    "|Time|Date|Weather Forecast|\n",
    "|----|----|----------------|\n",
    "|9:00 AM|1/7/2023|ice and snow|\n",
    "\n",
    "~~ice and snow~~\n",
    "\n",
    "If you want to research more just [click here](https://www.google.com)."
   ]
  }
 ],
 "metadata": {
  "kernelspec": {
   "display_name": "Python",
   "language": "python",
   "name": "conda-env-python-py"
  },
  "language_info": {
   "codemirror_mode": {
    "name": "ipython",
    "version": 3
   },
   "file_extension": ".py",
   "mimetype": "text/x-python",
   "name": "python",
   "nbconvert_exporter": "python",
   "pygments_lexer": "ipython3",
   "version": "3.7.12"
  }
 },
 "nbformat": 4,
 "nbformat_minor": 5
}
